{
  "nbformat": 4,
  "nbformat_minor": 0,
  "metadata": {
    "colab": {
      "name": "Medical_Imaging_yc2956.ipynb",
      "provenance": [],
      "collapsed_sections": [
        "lfOT_mgvvKsa",
        "kc3u3eRETsP2"
      ],
      "toc_visible": true,
      "machine_shape": "hm"
    },
    "kernelspec": {
      "name": "python3",
      "display_name": "Python 3"
    },
    "accelerator": "GPU"
  },
  "cells": [
    {
      "cell_type": "markdown",
      "metadata": {
        "id": "hJ4mFR1kYYZE"
      },
      "source": [
        "# **Medical Imaging (CAMELYON 16) Final Project**"
      ]
    },
    {
      "cell_type": "markdown",
      "metadata": {
        "id": "vrR9aP4UYk5s"
      },
      "source": [
        "Andy Cho (yc2956) - December 22, 2020"
      ]
    },
    {
      "cell_type": "markdown",
      "metadata": {
        "id": "poMEJlIiktTJ"
      },
      "source": [
        "## **Starter Code**"
      ]
    },
    {
      "cell_type": "code",
      "metadata": {
        "colab": {
          "base_uri": "https://localhost:8080/"
        },
        "id": "MjG7YBurYTx_",
        "outputId": "edad729d-56ef-4393-bf75-d24728626c6a"
      },
      "source": [
        "# Install the OpenSlide C library and Python bindings\n",
        "# After installing these libraries, use `Runtime -> restart and run all` on the menu\n",
        "!apt-get install openslide-tools\n",
        "!pip install openslide-python"
      ],
      "execution_count": 1,
      "outputs": [
        {
          "output_type": "stream",
          "text": [
            "Reading package lists... Done\n",
            "Building dependency tree       \n",
            "Reading state information... Done\n",
            "openslide-tools is already the newest version (3.4.1+dfsg-2).\n",
            "0 upgraded, 0 newly installed, 0 to remove and 14 not upgraded.\n",
            "Requirement already satisfied: openslide-python in /usr/local/lib/python3.6/dist-packages (1.1.2)\n",
            "Requirement already satisfied: Pillow in /usr/local/lib/python3.6/dist-packages (from openslide-python) (7.0.0)\n"
          ],
          "name": "stdout"
        }
      ]
    },
    {
      "cell_type": "code",
      "metadata": {
        "id": "B2X_lIZ2YtzR"
      },
      "source": [
        "%matplotlib inline\n",
        "import matplotlib.pyplot as plt\n",
        "import numpy as np\n",
        "from openslide import open_slide, __library_version__ as openslide_version\n",
        "import os\n",
        "from PIL import Image\n",
        "from skimage.color import rgb2gray"
      ],
      "execution_count": 2,
      "outputs": []
    },
    {
      "cell_type": "code",
      "metadata": {
        "colab": {
          "base_uri": "https://localhost:8080/"
        },
        "id": "g-IN55OKYRZK",
        "outputId": "7e5a59ff-6b50-4880-fea8-e459bcb40762"
      },
      "source": [
        "from google.colab import drive\n",
        "drive.mount('/content/drive')"
      ],
      "execution_count": 3,
      "outputs": [
        {
          "output_type": "stream",
          "text": [
            "Drive already mounted at /content/drive; to attempt to forcibly remount, call drive.mount(\"/content/drive\", force_remount=True).\n"
          ],
          "name": "stdout"
        }
      ]
    },
    {
      "cell_type": "code",
      "metadata": {
        "id": "yvmxbPidaGFK"
      },
      "source": [
        "import shutil\n",
        "\n",
        "# Bring to the local directory from Google Drive\n",
        "if not os.path.exists(\"/content/Medical_Imaging_Files\"):\n",
        "  shutil.move(\"/content/drive/My Drive/Medical_Imaging_Files\", \"/content/\") "
      ],
      "execution_count": 4,
      "outputs": []
    },
    {
      "cell_type": "code",
      "metadata": {
        "id": "RUIbXUCeY75x",
        "colab": {
          "base_uri": "https://localhost:8080/"
        },
        "outputId": "14ccfcea-71d0-4631-c373-cd55752f2939"
      },
      "source": [
        "slide_path_sample = '/content/Medical_Imaging_Files/tumor_031.tif'\n",
        "tumor_mask_path_sample = '/content/Medical_Imaging_Files/tumor_031_mask.tif'\n",
        "\n",
        "slide_sample = open_slide(slide_path_sample)\n",
        "print(\"Read WSI from %s with width: %d, height: %d\" % (slide_path_sample, slide_sample.level_dimensions[0][0], slide_sample.level_dimensions[0][1]))\n",
        "\n",
        "tumor_mask_sample = open_slide(tumor_mask_path_sample)\n",
        "print(\"Read tumor mask from %s\" % (tumor_mask_path_sample))\n",
        "\n",
        "print(\"Slide includes %d levels\", len(slide_sample.level_dimensions))\n",
        "for i in range(len(slide_sample.level_dimensions)-1): # slide is missing for the last index\n",
        "    print(\"Level %d, dimensions: %s downsample factor %d\" % (i, slide_sample.level_dimensions[i], slide_sample.level_downsamples[i]))\n",
        "    assert tumor_mask_sample.level_dimensions[i][0] == slide_sample.level_dimensions[i][0]\n",
        "    assert tumor_mask_sample.level_dimensions[i][1] == slide_sample.level_dimensions[i][1]\n",
        "\n",
        "# Verify downsampling works as expected\n",
        "width, height = slide_sample.level_dimensions[5]\n",
        "print(width,height)\n",
        "assert width * slide_sample.level_downsamples[5] == slide_sample.level_dimensions[0][0]\n",
        "assert height * slide_sample.level_downsamples[5] == slide_sample.level_dimensions[0][1]"
      ],
      "execution_count": 5,
      "outputs": [
        {
          "output_type": "stream",
          "text": [
            "Read WSI from /content/Medical_Imaging_Files/tumor_031.tif with width: 97792, height: 221184\n",
            "Read tumor mask from /content/Medical_Imaging_Files/tumor_031_mask.tif\n",
            "Slide includes %d levels 10\n",
            "Level 0, dimensions: (97792, 221184) downsample factor 1\n",
            "Level 1, dimensions: (48896, 110592) downsample factor 2\n",
            "Level 2, dimensions: (24448, 55296) downsample factor 4\n",
            "Level 3, dimensions: (12224, 27648) downsample factor 8\n",
            "Level 4, dimensions: (6112, 13824) downsample factor 16\n",
            "Level 5, dimensions: (3056, 6912) downsample factor 32\n",
            "Level 6, dimensions: (1528, 3456) downsample factor 64\n",
            "Level 7, dimensions: (764, 1728) downsample factor 128\n",
            "Level 8, dimensions: (382, 864) downsample factor 256\n",
            "3056 6912\n"
          ],
          "name": "stdout"
        }
      ]
    },
    {
      "cell_type": "code",
      "metadata": {
        "colab": {
          "base_uri": "https://localhost:8080/"
        },
        "id": "AxLczh1bZLF2",
        "outputId": "bd2ed373-925d-4869-bf01-24d0fc44c197"
      },
      "source": [
        "# Check to make sure all the dimensions are correct\n",
        "print(slide_sample.level_dimensions)\n",
        "print(tumor_mask_sample.level_dimensions)"
      ],
      "execution_count": 6,
      "outputs": [
        {
          "output_type": "stream",
          "text": [
            "((97792, 221184), (48896, 110592), (24448, 55296), (12224, 27648), (6112, 13824), (3056, 6912), (1528, 3456), (764, 1728), (382, 864), (191, 432))\n",
            "((97792, 221184), (48896, 110592), (24448, 55296), (12224, 27648), (6112, 13824), (3056, 6912), (1528, 3456), (764, 1728), (382, 864))\n"
          ],
          "name": "stdout"
        }
      ]
    },
    {
      "cell_type": "markdown",
      "metadata": {
        "id": "skHuRxhfgPH1"
      },
      "source": [
        "## **Helper Functions**"
      ]
    },
    {
      "cell_type": "code",
      "metadata": {
        "id": "k5Wk0Z6lZNuU"
      },
      "source": [
        "def read_slide(slide, x, y, level, width, height, as_float=False):\n",
        "\n",
        "  im = slide.read_region((x,y), level, (width, height))\n",
        "  im = im.convert('RGB') # drop the alpha channel\n",
        "  if as_float:\n",
        "    im = np.asarray(im, dtype=np.float32)\n",
        "  else:\n",
        "    im = np.asarray(im)\n",
        "  assert im.shape == (height, width, 3)\n",
        "\n",
        "  return im"
      ],
      "execution_count": 7,
      "outputs": []
    },
    {
      "cell_type": "code",
      "metadata": {
        "colab": {
          "base_uri": "https://localhost:8080/",
          "height": 304
        },
        "id": "TWFBzcLoZRVo",
        "outputId": "4bffca93-f4e6-49f5-e12f-92cdeb3172c6"
      },
      "source": [
        "def fetch_slide_image(slide, x, y, level):\n",
        "  slide_image = read_slide(slide, \n",
        "                         x=x, \n",
        "                         y=y, \n",
        "                         level=level, \n",
        "                         width=slide.level_dimensions[level][0], \n",
        "                         height=slide.level_dimensions[level][1])\n",
        "  \n",
        "  return slide_image\n",
        "\n",
        "slide_image_sample = fetch_slide_image(slide_sample, 0, 0, 6)\n",
        "print(slide_image_sample.shape)\n",
        "\n",
        "# Sample plot\n",
        "plt.imshow(slide_image_sample)"
      ],
      "execution_count": 8,
      "outputs": [
        {
          "output_type": "stream",
          "text": [
            "(3456, 1528, 3)\n"
          ],
          "name": "stdout"
        },
        {
          "output_type": "execute_result",
          "data": {
            "text/plain": [
              "<matplotlib.image.AxesImage at 0x7f9591e63860>"
            ]
          },
          "metadata": {
            "tags": []
          },
          "execution_count": 8
        },
        {
          "output_type": "display_data",
          "data": {
            "image/png": "[encoded data removed]",
            "text/plain": [
              "<Figure size 432x288 with 1 Axes>"
            ]
          },
          "metadata": {
            "tags": [],
            "needs_background": "light"
          }
        }
      ]
    },
    {
      "cell_type": "code",
      "metadata": {
        "colab": {
          "base_uri": "https://localhost:8080/",
          "height": 322
        },
        "id": "YY4Ep__JkUaX",
        "outputId": "86c97a49-e7f7-4135-9db4-91a9d24b5b59"
      },
      "source": [
        "def find_tissue_pixels(image, intensity=0.8):\n",
        "    im_gray = rgb2gray(image)\n",
        "    assert im_gray.shape == (image.shape[0], image.shape[1])\n",
        "    indices = np.where(im_gray <= intensity)\n",
        "    return list(zip(indices[0], indices[1]))\n",
        "\n",
        "def apply_mask(im, mask, color=(255,0,0)):\n",
        "    masked = np.copy(im)\n",
        "    for x,y in mask: masked[x][y] = color\n",
        "    return masked\n",
        "\n",
        "tissue_pixels_sample = find_tissue_pixels(slide_image_sample)\n",
        "print(len(tissue_pixels_sample))\n",
        "percent_tissue = len(tissue_pixels_sample) / float(slide_image_sample.shape[0] * slide_image_sample.shape[0]) * 100\n",
        "print(\"%d tissue_pixels pixels (%.1f percent of the image)\" % (len(tissue_pixels_sample), percent_tissue)) \n",
        "\n",
        "tissue_regions = apply_mask(slide_image_sample, tissue_pixels_sample)\n",
        "plt.imshow(tissue_regions)"
      ],
      "execution_count": 9,
      "outputs": [
        {
          "output_type": "stream",
          "text": [
            "184955\n",
            "184955 tissue_pixels pixels (1.5 percent of the image)\n"
          ],
          "name": "stdout"
        },
        {
          "output_type": "execute_result",
          "data": {
            "text/plain": [
              "<matplotlib.image.AxesImage at 0x7f95905bae48>"
            ]
          },
          "metadata": {
            "tags": []
          },
          "execution_count": 9
        },
        {
          "output_type": "display_data",
          "data": {
            "image/png": "[encoded data removed]",
            "text/plain": [
              "<Figure size 432x288 with 1 Axes>"
            ]
          },
          "metadata": {
            "tags": [],
            "needs_background": "light"
          }
        }
      ]
    },
    {
      "cell_type": "code",
      "metadata": {
        "colab": {
          "base_uri": "https://localhost:8080/",
          "height": 286
        },
        "id": "uEjXaH0YzylN",
        "outputId": "c187cbdd-c1f3-4015-d666-a0e1b0ef8e41"
      },
      "source": [
        "def fetch_tissue_mask_image(slide, x, y, level): # From the slide image / output True for the pixel if tissue\n",
        "\n",
        "  tissue_mask_image = read_slide(slide, \n",
        "                        x=x, \n",
        "                        y=y, \n",
        "                        level=level, \n",
        "                        width=slide.level_dimensions[level][0],\n",
        "                        height=slide.level_dimensions[level][1])\n",
        "\n",
        "  tissue_mask_image_gray = rgb2gray(tissue_mask_image)\n",
        "  tissue_mask_image_bool = tissue_mask_image_gray <= 0.8\n",
        "  tissue_mask_image = tissue_mask_image_bool.astype(int)\n",
        "\n",
        "  return tissue_mask_image\n",
        "\n",
        "tissue_mask_image_sample = fetch_tissue_mask_image(slide_sample, 0, 0, 6)\n",
        "\n",
        "# Sample plot\n",
        "plt.imshow(tissue_mask_image_sample)"
      ],
      "execution_count": 10,
      "outputs": [
        {
          "output_type": "execute_result",
          "data": {
            "text/plain": [
              "<matplotlib.image.AxesImage at 0x7f9590523208>"
            ]
          },
          "metadata": {
            "tags": []
          },
          "execution_count": 10
        },
        {
          "output_type": "display_data",
          "data": {
            "image/png": "[encoded data removed]",
            "text/plain": [
              "<Figure size 432x288 with 1 Axes>"
            ]
          },
          "metadata": {
            "tags": [],
            "needs_background": "light"
          }
        }
      ]
    },
    {
      "cell_type": "code",
      "metadata": {
        "colab": {
          "base_uri": "https://localhost:8080/",
          "height": 304
        },
        "id": "BMvsUwxHaVuU",
        "outputId": "f2de6210-a95b-4779-e692-6093802841bb"
      },
      "source": [
        "def fetch_tumor_mask_image(tumor_mask, x, y, level): # From the tumor mask image / output 1 where tumor exists\n",
        "\n",
        "  tumor_mask_image = read_slide(tumor_mask, \n",
        "                        x=x, \n",
        "                        y=y, \n",
        "                        level=level, \n",
        "                        width=tumor_mask.level_dimensions[level][0],\n",
        "                        height=tumor_mask.level_dimensions[level][1])\n",
        "\n",
        "  tumor_mask_image = tumor_mask_image[:,:,0]\n",
        "  return tumor_mask_image\n",
        "\n",
        "tumor_mask_image_sample = fetch_tumor_mask_image(tumor_mask_sample, 0, 0, 6)\n",
        "\n",
        "# Sample plot\n",
        "print(tumor_mask_image_sample.shape)\n",
        "plt.imshow(tumor_mask_image_sample)"
      ],
      "execution_count": 11,
      "outputs": [
        {
          "output_type": "stream",
          "text": [
            "(3456, 1528)\n"
          ],
          "name": "stdout"
        },
        {
          "output_type": "execute_result",
          "data": {
            "text/plain": [
              "<matplotlib.image.AxesImage at 0x7f95904832b0>"
            ]
          },
          "metadata": {
            "tags": []
          },
          "execution_count": 11
        },
        {
          "output_type": "display_data",
          "data": {
            "image/png": "[encoded data removed]",
            "text/plain": [
              "<Figure size 432x288 with 1 Axes>"
            ]
          },
          "metadata": {
            "tags": [],
            "needs_background": "light"
          }
        }
      ]
    },
    {
      "cell_type": "code",
      "metadata": {
        "colab": {
          "base_uri": "https://localhost:8080/",
          "height": 286
        },
        "id": "692OevYRJC_h",
        "outputId": "5acb466b-981b-4ef5-cd41-56f8521e6562"
      },
      "source": [
        "# Overlay them. The idea is that the mask shows the region of the slide that contain cancerous cells.\n",
        "plt.imshow(slide_image_sample)\n",
        "plt.imshow(tumor_mask_image_sample, cmap='jet', alpha=0.5) # Red regions contains cancer."
      ],
      "execution_count": 12,
      "outputs": [
        {
          "output_type": "execute_result",
          "data": {
            "text/plain": [
              "<matplotlib.image.AxesImage at 0x7f9594e8cb70>"
            ]
          },
          "metadata": {
            "tags": []
          },
          "execution_count": 12
        },
        {
          "output_type": "display_data",
          "data": {
            "image/png": "[encoded data removed]",
            "text/plain": [
              "<Figure size 432x288 with 1 Axes>"
            ]
          },
          "metadata": {
            "tags": [],
            "needs_background": "light"
          }
        }
      ]
    },
    {
      "cell_type": "markdown",
      "metadata": {
        "id": "lfOT_mgvvKsa"
      },
      "source": [
        "## **Get Training Dataset**"
      ]
    },
    {
      "cell_type": "markdown",
      "metadata": {
        "id": "kc3u3eRETsP2"
      },
      "source": [
        "## Divide by Patches"
      ]
    },
    {
      "cell_type": "code",
      "metadata": {
        "id": "cD779YbT8jYD"
      },
      "source": [
        "# slide_image = fetch_slide_image(slide, 0, 0, 5) # input to the model\n",
        "# tissue_mask_image = fetch_tissue_mask_image(slide, 0, 0, 5) # output 1 where tissue exists\n",
        "# tumor_mask_image = fetch_tumor_mask_image(tumor_mask, 0, 0, 5) # output 1 where tumor exists"
      ],
      "execution_count": 20,
      "outputs": []
    },
    {
      "cell_type": "code",
      "metadata": {
        "id": "ntc947_x5m_L"
      },
      "source": [
        "# from sklearn.datasets import load_sample_image\n",
        "# from sklearn.feature_extraction import image\n",
        "\n",
        "# patches_slide = image.extract_patches_2d(slide_image, \n",
        "#                                    (299, 299), \n",
        "#                                    max_patches = round(slide_image.shape[0] * slide_image.shape[1] / 299**2),\n",
        "#                                    random_state = 1234) # include random state so we can match with the tissue_mask_image\n",
        "\n",
        "# patches_tissue = image.extract_patches_2d(tissue_mask_image, \n",
        "#                                    (299, 299), \n",
        "#                                    max_patches = round(tissue_mask_image.shape[0] * tissue_mask_image.shape[1] / 299**2),\n",
        "#                                    random_state = 1234) # include random state so we can match with the tissue_mask_image\n",
        "\n",
        "# # Only include patches that have enough tissues in the patch (over 10% of the pixels)\n",
        "# sufficientTissues = []\n",
        "# for i in range(round(tissue_mask_image.shape[0] * tissue_mask_image.shape[1] / 299**2)):\n",
        "#   if sum(sum(patches_tissue[i])) > 299**2 / 10:\n",
        "#     sufficientTissues.append(i)\n",
        "\n",
        "# patches_slide = patches_slide[sufficientTissues]\n",
        "# patches_tissue = patches_tissue[sufficientTissues]\n",
        "\n",
        "# # Random patch to check\n",
        "# n = round(len(patches_slide)/2)\n",
        "# plt.imshow(patches_slide[n])"
      ],
      "execution_count": 21,
      "outputs": []
    },
    {
      "cell_type": "markdown",
      "metadata": {
        "id": "w7b3vyA9ll7E"
      },
      "source": [
        "## Prepare the Dataset"
      ]
    },
    {
      "cell_type": "code",
      "metadata": {
        "id": "ZUbb21EjaRXZ"
      },
      "source": [
        "slide_paths = ['tumor_023.tif', 'tumor_031.tif', 'tumor_035.tif', 'tumor_101.tif', 'tumor_057.tif',\n",
        "              'tumor_059.tif', 'tumor_064.tif', 'tumor_075.tif']\n",
        "               #'tumor_078.tif', 'tumor_081.tif', 'tumor_084.tif', 'tumor_094.tif', 'tumor_096.tif']\n",
        "\n",
        "tumor_mask_paths = ['tumor_023_mask.tif', 'tumor_031_mask.tif', 'tumor_035_mask.tif', 'tumor_101_mask.tif', 'tumor_057_mask.tif',\n",
        "                    'tumor_059_mask.tif', 'tumor_064_mask.tif', 'tumor_075_mask.tif']\n",
        "                    #'tumor_078_mask.tif', 'tumor_081_mask.tif', 'tumor_084_mask.tif', 'tumor_094_mask.tif', 'tumor_096_mask.tif']"
      ],
      "execution_count": 13,
      "outputs": []
    },
    {
      "cell_type": "code",
      "metadata": {
        "id": "ytq4g9l5dS39"
      },
      "source": [
        "def process_images(slide_paths, tumor_mask_paths, level): # Output images by reading files with open_slide\n",
        "\n",
        "  slide_images = []\n",
        "  tissue_mask_images = []\n",
        "  tumor_mask_images = []\n",
        "\n",
        "  for i in range(len(slide_paths)):\n",
        "\n",
        "    slide_path = '/content/Medical_Imaging_Files/' + slide_paths[i]\n",
        "    tumor_mask_path = '/content/Medical_Imaging_Files/' + tumor_mask_paths[i]\n",
        "\n",
        "    # folder not working\n",
        "    # slide_url = 'https://storage.googleapis.com/applied-dl/tumor-slides/%s' % slide_path\n",
        "    # mask_url = 'https://storage.googleapis.com/applied-dl/tumor-slides/%s' % tumor_mask_path\n",
        "\n",
        "    # # temporary folder\n",
        "    # slide_url = 'https://storage.googleapis.com/applied-dl/%s' % slide_path\n",
        "    # mask_url = 'https://storage.googleapis.com/applied-dl/%s' % tumor_mask_path\n",
        "\n",
        "    # # Download the whole slide image\n",
        "    # if not os.path.exists(slide_path):\n",
        "    #   !curl -O $slide_url\n",
        "\n",
        "    # # Download the tumor mask\n",
        "    # if not os.path.exists(tumor_mask_path):\n",
        "    #   !curl -O $mask_url\n",
        "\n",
        "    slide = open_slide(slide_path)\n",
        "    tumor_mask = open_slide(tumor_mask_path)\n",
        "\n",
        "    slide_image = fetch_slide_image(slide, 0, 0, level=level)\n",
        "    tissue_mask_image = fetch_tissue_mask_image(slide, 0, 0, level=level)\n",
        "    tumor_mask_image = fetch_tumor_mask_image(tumor_mask, 0, 0, level=level)\n",
        "\n",
        "    slide_images.append(slide_image)\n",
        "    tissue_mask_images.append(tissue_mask_image)\n",
        "    tumor_mask_images.append(tumor_mask_image)\n",
        "\n",
        "  return slide_images, tissue_mask_images, tumor_mask_images\n",
        "\n",
        "# slide_images, tissue_mask_images, tumor_mask_images = process_images(slide_paths, tumor_mask_paths, level=5)"
      ],
      "execution_count": 16,
      "outputs": []
    },
    {
      "cell_type": "code",
      "metadata": {
        "colab": {
          "base_uri": "https://localhost:8080/"
        },
        "id": "UPfKUPG2rS4v",
        "outputId": "70cf57cd-c962-44f9-aada-f9eec31f1bac"
      },
      "source": [
        "# Check that we have the same number of images\n",
        "print(len(slide_images), len(tissue_mask_images),len(tumor_mask_images))\n",
        "\n",
        "for i in range(8):\n",
        "  print(slide_images[i].shape)\n",
        "  print(tissue_mask_images[i].shape)\n",
        "  print(tumor_mask_images[i].shape)\n",
        "  print('----------------')"
      ],
      "execution_count": 18,
      "outputs": [
        {
          "output_type": "stream",
          "text": [
            "8 8 8\n",
            "(6912, 3056, 3)\n",
            "(6912, 3056)\n",
            "(6912, 3056)\n",
            "----------------\n",
            "(6912, 3056, 3)\n",
            "(6912, 3056)\n",
            "(6912, 3056)\n",
            "----------------\n",
            "(6912, 3056, 3)\n",
            "(6912, 3056)\n",
            "(6912, 3056)\n",
            "----------------\n",
            "(2240, 4352, 3)\n",
            "(2240, 4352)\n",
            "(2240, 4352)\n",
            "----------------\n",
            "(6896, 3056, 3)\n",
            "(6896, 3056)\n",
            "(6896, 3056)\n",
            "----------------\n",
            "(6912, 3040, 3)\n",
            "(6912, 3040)\n",
            "(6912, 3040)\n",
            "----------------\n",
            "(6896, 3056, 3)\n",
            "(6896, 3056)\n",
            "(6896, 3056)\n",
            "----------------\n",
            "(2464, 2816, 3)\n",
            "(2464, 2816)\n",
            "(2464, 2816)\n",
            "----------------\n"
          ],
          "name": "stdout"
        }
      ]
    },
    {
      "cell_type": "code",
      "metadata": {
        "id": "0yBFYQ1CkpPG"
      },
      "source": [
        "from sklearn.feature_extraction import image\n",
        "\n",
        "def fetch_patches(slide_images, tissue_mask_images, tumor_mask_images, multiplier):\n",
        "\n",
        "  patches_slide_all = []\n",
        "  patches_tissue_all = []\n",
        "  patches_tumor_all = []\n",
        "  patches_tumor_binary_all = []\n",
        "\n",
        "  for iter in range(len(slide_images)):\n",
        "\n",
        "    # Number of patches (assuming no patches overlap, multiplier x that amount (due to memory restrictions))\n",
        "    n = round(slide_images[iter].shape[0] * slide_images[iter].shape[1] / 299**2) * multiplier\n",
        "\n",
        "    patches_slide = image.extract_patches_2d(slide_images[iter], \n",
        "                                   (299, 299), \n",
        "                                   max_patches = n,\n",
        "                                   random_state = 1234) # include random state so we can match with the tissue_mask_image\n",
        "\n",
        "    patches_tissue = image.extract_patches_2d(tissue_mask_images[iter], \n",
        "                                   (299, 299), \n",
        "                                   max_patches = n,\n",
        "                                   random_state = 1234) # include random state so we can match with the tissue_mask_image\n",
        "\n",
        "    patches_tumor = image.extract_patches_2d(tumor_mask_images[iter], \n",
        "                                   (299, 299), \n",
        "                                   max_patches = n,\n",
        "                                   random_state = 1234) # include random state so we can match with the tissue_mask_image                             \n",
        "\n",
        "    # Only include patches that have enough tissues in the patch (over 10% of the pixels)\n",
        "    sufficientTissues = []\n",
        "    for i in range(n):\n",
        "      if sum(sum(patches_tissue[i])) > 299**2 / 10:\n",
        "        sufficientTissues.append(i)\n",
        "\n",
        "    # Filter out tissues without enough tissues to begin with\n",
        "    patches_slide = patches_slide[sufficientTissues]\n",
        "    patches_tissue = patches_tissue[sufficientTissues]\n",
        "    patches_tumor = patches_tumor[sufficientTissues]\n",
        "\n",
        "    for patch_slide in patches_slide:\n",
        "      patches_slide_all.append(patch_slide)\n",
        "    for patch_tissue in patches_tissue:\n",
        "      patches_tissue_all.append(patch_tissue)\n",
        "    for patch_tumor in patches_tumor:\n",
        "      patches_tumor_all.append(patch_tumor)\n",
        "      cancer = sum(sum(patch_tumor))\n",
        "      if cancer > 0:\n",
        "        patches_tumor_binary_all.append([1,0]) # cancer is [1,0]\n",
        "      else:\n",
        "        patches_tumor_binary_all.append([0,1]) # cancer-free is [0,1]\n",
        "\n",
        "  patches_slide_all = np.array(patches_slide_all)\n",
        "  patches_tissue_all = np.array(patches_tissue_all)\n",
        "  patches_tumor_all = np.array(patches_tumor_all)\n",
        "  patches_tumor_binary_all = np.array(patches_tumor_binary_all)\n",
        "\n",
        "  return patches_slide_all, patches_tissue_all, patches_tumor_all, patches_tumor_binary_all\n",
        "\n",
        "# patches_slide_all, patches_tissue_all, patches_tumor_all, patches_tumor_binary_all = fetch_patches(slide_images, tissue_mask_images, tumor_mask_images)\n"
      ],
      "execution_count": 38,
      "outputs": []
    },
    {
      "cell_type": "code",
      "metadata": {
        "id": "DdZ_D7BJlWdc"
      },
      "source": [
        "# Save the 299x299 patches in local folders\n",
        "from PIL import Image  \n",
        "import PIL  \n",
        "import random\n",
        "\n",
        "def saveLocally(patches_slide_all, patches_tumor_binary_all, level, train_proportion):\n",
        "\n",
        "  n = len(patches_slide_all)\n",
        "  train_indices = random.sample([i for i in range(n)], round(n*train_proportion))\n",
        "  test_indices = list(set([i for i in range(n)]) - set(train_indices))\n",
        "\n",
        "  for i in range(n):\n",
        "    if i in set(train_indices):\n",
        "      if patches_tumor_binary_all[i][0] == 0: # cancer free\n",
        "        img = Image.fromarray(patches_slide_all[i], 'RGB')\n",
        "        img.save('/content/drive/MyDrive/Medical_Imaging_Dataset_L' + str(level) + '/train/normal/train_normal' + str(i) + '_level' + str(level) + '.png')\n",
        "      elif patches_tumor_binary_all[i][0] == 1: # tumor\n",
        "        img = Image.fromarray(patches_slide_all[i], 'RGB')\n",
        "        img.save('/content/drive/MyDrive/Medical_Imaging_Dataset_L' + str(level) + '/train/tumor/train_tumor' + str(i) + '_level' + str(level)+ '.png')\n",
        "\n",
        "    else:\n",
        "      if patches_tumor_binary_all[i][0] == 0:\n",
        "        img = Image.fromarray(patches_slide_all[i], 'RGB')\n",
        "        img.save('/content/drive/MyDrive/Medical_Imaging_Dataset_L' + str(level) + '/test/normal/test_normal' + str(i) + '_level' + str(level)+ '.png')\n",
        "      elif patches_tumor_binary_all[i][0] == 1:\n",
        "        img = Image.fromarray(patches_slide_all[i], 'RGB')\n",
        "        img.save('/content/drive/MyDrive/Medical_Imaging_Dataset_L' + str(level) + '/test/tumor/test_tumor' + str(i) + '_level' + str(level)+ '.png')\n",
        "\n",
        "# saveLocally(patches_slide_all, patches_tumor_binary_all, level=5, train_proportion=0.8)\n"
      ],
      "execution_count": 39,
      "outputs": []
    },
    {
      "cell_type": "code",
      "metadata": {
        "colab": {
          "base_uri": "https://localhost:8080/"
        },
        "id": "luIJceOtnz6z",
        "outputId": "e6ca42b5-4b7b-4100-a68f-4bdb367eeaef"
      },
      "source": [
        "print('# training normal images:', len(os.listdir('/content/drive/MyDrive/Medical_Imaging_Dataset/train/normal')))\n",
        "print('# training tumor images:', len(os.listdir('/content/drive/MyDrive/Medical_Imaging_Dataset/train/tumor')))\n",
        "print('# testing normal images:', len(os.listdir('/content/drive/MyDrive/Medical_Imaging_Dataset/test/normal')))\n",
        "print('# testing tumor images:', len(os.listdir('/content/drive/MyDrive/Medical_Imaging_Dataset/test/tumor')))"
      ],
      "execution_count": 22,
      "outputs": [
        {
          "output_type": "stream",
          "text": [
            "# training normal images: 727\n",
            "# training tumor images: 243\n",
            "# testing normal images: 188\n",
            "# testing tumor images: 54\n"
          ],
          "name": "stdout"
        }
      ]
    },
    {
      "cell_type": "code",
      "metadata": {
        "colab": {
          "base_uri": "https://localhost:8080/"
        },
        "id": "p179gqUQ0hhR",
        "outputId": "16747e9e-aae7-48f6-e37e-14d2a7ba434c"
      },
      "source": [
        "import keras\n",
        "from keras.preprocessing.image import ImageDataGenerator\n",
        "\n",
        "# All images will be rescaled by 1./255\n",
        "train_datagen = ImageDataGenerator(rescale=1./255)\n",
        "test_datagen = ImageDataGenerator(rescale=1./255)\n",
        "\n",
        "train_generator = train_datagen.flow_from_directory(\n",
        "        '/content/drive/MyDrive/Medical_Imaging_Dataset/train',\n",
        "        target_size=(299, 299),\n",
        "        batch_size=16,\n",
        "        class_mode='binary')\n",
        "\n",
        "test_generator = test_datagen.flow_from_directory(\n",
        "        '/content/drive/MyDrive/Medical_Imaging_Dataset/test',\n",
        "        target_size=(299, 299),\n",
        "        batch_size=16,\n",
        "        class_mode='binary')"
      ],
      "execution_count": 26,
      "outputs": [
        {
          "output_type": "stream",
          "text": [
            "Found 970 images belonging to 2 classes.\n",
            "Found 242 images belonging to 2 classes.\n"
          ],
          "name": "stdout"
        }
      ]
    },
    {
      "cell_type": "markdown",
      "metadata": {
        "id": "8tXKwErStJHa"
      },
      "source": [
        "## **Modeling**"
      ]
    },
    {
      "cell_type": "code",
      "metadata": {
        "id": "81NRPqxBsj1Z"
      },
      "source": [
        "import tensorflow as tf\n",
        "tf.keras.backend.clear_session()"
      ],
      "execution_count": 27,
      "outputs": []
    },
    {
      "cell_type": "code",
      "metadata": {
        "colab": {
          "base_uri": "https://localhost:8080/"
        },
        "id": "gmUel4uTZuZ9",
        "outputId": "8fdb23f8-f982-495b-90e3-8fc0ccbfac19"
      },
      "source": [
        "import tensorflow as tf\n",
        "\n",
        "base_model = tf.keras.applications.ResNet50(\n",
        "    include_top=False,\n",
        "    weights=None,\n",
        "    input_shape=(299,299,3),\n",
        "    pooling='max',\n",
        "    classes=1000\n",
        ")\n",
        "\n",
        "model = tf.keras.Sequential()\n",
        "model.add(base_model) # Original model\n",
        "model.add(tf.keras.layers.Flatten())\n",
        "\n",
        "# Transfer learning\n",
        "model.add(tf.keras.layers.Dense(256, activation='relu'))\n",
        "model.add(tf.keras.layers.Dropout(0.2))\n",
        "model.add(tf.keras.layers.Dense(256, activation='selu'))\n",
        "model.add(tf.keras.layers.Dropout(0.2))\n",
        "model.add(tf.keras.layers.Dense(1, activation='sigmoid'))\n",
        "\n",
        "model.summary()\n",
        "model.compile(optimizer='adam', loss='binary_crossentropy', metrics='accuracy')\n"
      ],
      "execution_count": 211,
      "outputs": [
        {
          "output_type": "stream",
          "text": [
            "Model: \"sequential_4\"\n",
            "_________________________________________________________________\n",
            "Layer (type)                 Output Shape              Param #   \n",
            "=================================================================\n",
            "resnet50 (Functional)        (None, 2048)              23587712  \n",
            "_________________________________________________________________\n",
            "flatten_4 (Flatten)          (None, 2048)              0         \n",
            "_________________________________________________________________\n",
            "dense_12 (Dense)             (None, 256)               524544    \n",
            "_________________________________________________________________\n",
            "dropout_8 (Dropout)          (None, 256)               0         \n",
            "_________________________________________________________________\n",
            "dense_13 (Dense)             (None, 256)               65792     \n",
            "_________________________________________________________________\n",
            "dropout_9 (Dropout)          (None, 256)               0         \n",
            "_________________________________________________________________\n",
            "dense_14 (Dense)             (None, 1)                 257       \n",
            "=================================================================\n",
            "Total params: 24,178,305\n",
            "Trainable params: 24,125,185\n",
            "Non-trainable params: 53,120\n",
            "_________________________________________________________________\n"
          ],
          "name": "stdout"
        }
      ]
    },
    {
      "cell_type": "code",
      "metadata": {
        "colab": {
          "base_uri": "https://localhost:8080/"
        },
        "id": "mB1lKJlCoI1V",
        "outputId": "842aa08e-f56c-4b02-8688-6f403b65a2d6"
      },
      "source": [
        "history = model.fit(train_generator, epochs=8, validation_data=test_generator)"
      ],
      "execution_count": 212,
      "outputs": [
        {
          "output_type": "stream",
          "text": [
            "Epoch 1/8\n",
            "61/61 [==============================] - 15s 148ms/step - loss: 3.5205 - accuracy: 0.6370 - val_loss: 0.6797 - val_accuracy: 0.7769\n",
            "Epoch 2/8\n",
            "61/61 [==============================] - 8s 131ms/step - loss: 1.0942 - accuracy: 0.6951 - val_loss: 0.6207 - val_accuracy: 0.7769\n",
            "Epoch 3/8\n",
            "61/61 [==============================] - 8s 132ms/step - loss: 0.7145 - accuracy: 0.7175 - val_loss: 0.5401 - val_accuracy: 0.7769\n",
            "Epoch 4/8\n",
            "61/61 [==============================] - 8s 136ms/step - loss: 0.7156 - accuracy: 0.7307 - val_loss: 0.5724 - val_accuracy: 0.7769\n",
            "Epoch 5/8\n",
            "61/61 [==============================] - 8s 131ms/step - loss: 0.5441 - accuracy: 0.7679 - val_loss: 0.6526 - val_accuracy: 0.7066\n",
            "Epoch 6/8\n",
            "61/61 [==============================] - 8s 131ms/step - loss: 0.6045 - accuracy: 0.7373 - val_loss: 0.5296 - val_accuracy: 0.7769\n",
            "Epoch 7/8\n",
            "61/61 [==============================] - 8s 131ms/step - loss: 0.4754 - accuracy: 0.7673 - val_loss: 0.5110 - val_accuracy: 0.7934\n",
            "Epoch 8/8\n",
            "61/61 [==============================] - 8s 131ms/step - loss: 0.4305 - accuracy: 0.8087 - val_loss: 0.8863 - val_accuracy: 0.5702\n"
          ],
          "name": "stdout"
        }
      ]
    },
    {
      "cell_type": "code",
      "metadata": {
        "colab": {
          "base_uri": "https://localhost:8080/"
        },
        "id": "IvBlG_3_Ct26",
        "outputId": "298bed85-5afe-4e75-d346-2e05566cb081"
      },
      "source": [
        "# Non-transfer learning technique\n",
        "model2 = tf.keras.Sequential()\n",
        "model2.add(tf.keras.layers.Conv2D(16, (8, 8), activation='relu', padding = 'valid', input_shape=(299, 299, 3)))\n",
        "model2.add(tf.keras.layers.MaxPooling2D((4, 4)))\n",
        "model2.add(tf.keras.layers.Flatten())\n",
        "model2.add(tf.keras.layers.Dense(128, activation='relu'))\n",
        "model2.add(tf.keras.layers.Dropout(0.1))\n",
        "model2.add(tf.keras.layers.Dense(256, activation='selu'))\n",
        "model2.add(tf.keras.layers.Dropout(0.2))\n",
        "model2.add(tf.keras.layers.Dense(1, activation='sigmoid'))\n",
        "\n",
        "model2.summary()\n",
        "model2.compile(\n",
        "        optimizer='adam',\n",
        "        loss='binary_crossentropy',\n",
        "        metrics='accuracy')"
      ],
      "execution_count": 213,
      "outputs": [
        {
          "output_type": "stream",
          "text": [
            "Model: \"sequential_5\"\n",
            "_________________________________________________________________\n",
            "Layer (type)                 Output Shape              Param #   \n",
            "=================================================================\n",
            "conv2d (Conv2D)              (None, 292, 292, 16)      3088      \n",
            "_________________________________________________________________\n",
            "max_pooling2d (MaxPooling2D) (None, 73, 73, 16)        0         \n",
            "_________________________________________________________________\n",
            "flatten_5 (Flatten)          (None, 85264)             0         \n",
            "_________________________________________________________________\n",
            "dense_15 (Dense)             (None, 128)               10913920  \n",
            "_________________________________________________________________\n",
            "dropout_10 (Dropout)         (None, 128)               0         \n",
            "_________________________________________________________________\n",
            "dense_16 (Dense)             (None, 256)               33024     \n",
            "_________________________________________________________________\n",
            "dropout_11 (Dropout)         (None, 256)               0         \n",
            "_________________________________________________________________\n",
            "dense_17 (Dense)             (None, 1)                 257       \n",
            "=================================================================\n",
            "Total params: 10,950,289\n",
            "Trainable params: 10,950,289\n",
            "Non-trainable params: 0\n",
            "_________________________________________________________________\n"
          ],
          "name": "stdout"
        }
      ]
    },
    {
      "cell_type": "code",
      "metadata": {
        "colab": {
          "base_uri": "https://localhost:8080/"
        },
        "id": "7W6CQnckAVlS",
        "outputId": "0faa2ba2-bb73-4181-ce48-d4f322471002"
      },
      "source": [
        "history2 = model2.fit(train_generator, \n",
        "                              epochs=8, \n",
        "                              validation_data=test_generator)"
      ],
      "execution_count": 214,
      "outputs": [
        {
          "output_type": "stream",
          "text": [
            "Epoch 1/8\n",
            "61/61 [==============================] - 7s 111ms/step - loss: 1.8700 - accuracy: 0.6819 - val_loss: 0.5403 - val_accuracy: 0.7769\n",
            "Epoch 2/8\n",
            "61/61 [==============================] - 6s 104ms/step - loss: 0.5512 - accuracy: 0.7485 - val_loss: 0.5394 - val_accuracy: 0.7769\n",
            "Epoch 3/8\n",
            "61/61 [==============================] - 6s 106ms/step - loss: 0.5723 - accuracy: 0.7194 - val_loss: 0.5310 - val_accuracy: 0.7769\n",
            "Epoch 4/8\n",
            "61/61 [==============================] - 7s 116ms/step - loss: 0.5595 - accuracy: 0.7452 - val_loss: 0.5326 - val_accuracy: 0.7769\n",
            "Epoch 5/8\n",
            "61/61 [==============================] - 6s 105ms/step - loss: 0.5683 - accuracy: 0.7349 - val_loss: 0.5314 - val_accuracy: 0.7769\n",
            "Epoch 6/8\n",
            "61/61 [==============================] - 6s 102ms/step - loss: 0.5702 - accuracy: 0.7284 - val_loss: 0.5391 - val_accuracy: 0.7769\n",
            "Epoch 7/8\n",
            "61/61 [==============================] - 6s 102ms/step - loss: 0.5335 - accuracy: 0.7472 - val_loss: 0.5294 - val_accuracy: 0.7769\n",
            "Epoch 8/8\n",
            "61/61 [==============================] - 6s 102ms/step - loss: 0.5347 - accuracy: 0.7632 - val_loss: 0.5472 - val_accuracy: 0.7769\n"
          ],
          "name": "stdout"
        }
      ]
    },
    {
      "cell_type": "markdown",
      "metadata": {
        "id": "GP1zPsD5P8OE"
      },
      "source": [
        "We were able to reach a slightly higher validation accuracy with the ResNet50 model (transfer learning), than our custom model, so when we build our final model, we will train 3 different levels (4,5,6) with ResNet50 and combine for the final prediction."
      ]
    },
    {
      "cell_type": "markdown",
      "metadata": {
        "id": "ZhBej50aEGuY"
      },
      "source": [
        "## **Final Model**"
      ]
    },
    {
      "cell_type": "markdown",
      "metadata": {
        "id": "kDNw_rViCbuM"
      },
      "source": [
        "Now that we have completed a pipeline for 1 zoom level, let us train a model for zoom levels 4, 5, 6, and 7 and combine for a final version of the model."
      ]
    },
    {
      "cell_type": "code",
      "metadata": {
        "id": "ooCnJ5QGFo45"
      },
      "source": [
        "# Remove the files and folders from above\n",
        "!rm -rf '/content/drive/MyDrive/Medical_Imaging_Dataset/test/normal'\n",
        "!rm -rf '/content/drive/MyDrive/Medical_Imaging_Dataset/test/tumor'\n",
        "!rm -rf '/content/drive/MyDrive/Medical_Imaging_Dataset/train/normal'\n",
        "!rm -rf '/content/drive/MyDrive/Medical_Imaging_Dataset/train/tumor'"
      ],
      "execution_count": 37,
      "outputs": []
    },
    {
      "cell_type": "markdown",
      "metadata": {
        "id": "5cH46JtdFWZx"
      },
      "source": [
        "## *Level 4*"
      ]
    },
    {
      "cell_type": "code",
      "metadata": {
        "id": "CPyyrGf8Cnsr"
      },
      "source": [
        "slide_images_L4, tissue_mask_images_L4, tumor_mask_images_L4 = process_images(slide_paths, tumor_mask_paths, level=4)"
      ],
      "execution_count": 29,
      "outputs": []
    },
    {
      "cell_type": "code",
      "metadata": {
        "id": "qDsaHSgMEZV9"
      },
      "source": [
        "patches_slide_all_L4, patches_tissue_all_L4, patches_tumor_all_L4, patches_tumor_binary_all_L4 = fetch_patches(slide_images_L4, \n",
        "                                                                                                   tissue_mask_images_L4, \n",
        "                                                                                                   tumor_mask_images_L4,\n",
        "                                                                                                   multiplier=4)"
      ],
      "execution_count": 30,
      "outputs": []
    },
    {
      "cell_type": "code",
      "metadata": {
        "id": "IJMRXrT6NxGX"
      },
      "source": [
        "import gc\n",
        "gc.collect()\n",
        "\n",
        "# Save memory!\n",
        "del slide_images_L4\n",
        "del tissue_mask_images_L4\n",
        "del tumor_mask_images_L4"
      ],
      "execution_count": 31,
      "outputs": []
    },
    {
      "cell_type": "code",
      "metadata": {
        "id": "iUO5-j6CFFwn"
      },
      "source": [
        "saveLocally(patches_slide_all_L4, patches_tumor_binary_all_L4, level=4, train_proportion=0.9)"
      ],
      "execution_count": 33,
      "outputs": []
    },
    {
      "cell_type": "code",
      "metadata": {
        "colab": {
          "base_uri": "https://localhost:8080/"
        },
        "id": "Mhu9oU39OSQ6",
        "outputId": "d793f4c5-8d2c-4814-b8af-d1fe20fdb3cd"
      },
      "source": [
        "print('# training normal images:', len(os.listdir('/content/drive/MyDrive/Medical_Imaging_Dataset_L4/train/normal')))\n",
        "print('# training tumor images:', len(os.listdir('/content/drive/MyDrive/Medical_Imaging_Dataset_L4/train/tumor')))\n",
        "print('# testing normal images:', len(os.listdir('/content/drive/MyDrive/Medical_Imaging_Dataset_L4/test/normal')))\n",
        "print('# testing tumor images:', len(os.listdir('/content/drive/MyDrive/Medical_Imaging_Dataset_L4/test/tumor')))"
      ],
      "execution_count": 40,
      "outputs": [
        {
          "output_type": "stream",
          "text": [
            "# training normal images: 2260\n",
            "# training tumor images: 403\n",
            "# testing normal images: 251\n",
            "# testing tumor images: 45\n"
          ],
          "name": "stdout"
        }
      ]
    },
    {
      "cell_type": "code",
      "metadata": {
        "colab": {
          "base_uri": "https://localhost:8080/"
        },
        "id": "2a8V5EJHiemw",
        "outputId": "f1213ce5-a49d-4113-a860-b2ddaa90aae4"
      },
      "source": [
        "import keras\n",
        "from keras.preprocessing.image import ImageDataGenerator\n",
        "\n",
        "# All images will be rescaled by 1./255\n",
        "train_datagen = ImageDataGenerator(rescale=1./255)\n",
        "test_datagen = ImageDataGenerator(rescale=1./255)\n",
        "\n",
        "train_generator_L4 = train_datagen.flow_from_directory(\n",
        "        '/content/drive/MyDrive/Medical_Imaging_Dataset_L4/train',\n",
        "        target_size=(299, 299),\n",
        "        batch_size=16,\n",
        "        class_mode='binary')\n",
        "\n",
        "test_generator_L4 = test_datagen.flow_from_directory(\n",
        "        '/content/drive/MyDrive/Medical_Imaging_Dataset_L4/test',\n",
        "        target_size=(299, 299),\n",
        "        batch_size=16,\n",
        "        class_mode='binary')"
      ],
      "execution_count": 35,
      "outputs": [
        {
          "output_type": "stream",
          "text": [
            "Found 2663 images belonging to 2 classes.\n",
            "Found 296 images belonging to 2 classes.\n"
          ],
          "name": "stdout"
        }
      ]
    },
    {
      "cell_type": "code",
      "metadata": {
        "colab": {
          "base_uri": "https://localhost:8080/"
        },
        "id": "vY2UqaT-iBe2",
        "outputId": "40b1c42d-cae3-4737-d39d-3cdf046aec5b"
      },
      "source": [
        "import tensorflow as tf\n",
        "\n",
        "base_model = tf.keras.applications.ResNet50(\n",
        "    include_top=False,\n",
        "    weights=None,\n",
        "    input_shape=(299,299,3),\n",
        "    pooling='avg',\n",
        "    classes=1000\n",
        ")\n",
        "\n",
        "model_L4 = tf.keras.Sequential()\n",
        "model_L4.add(base_model) # Original model\n",
        "model_L4.add(tf.keras.layers.Flatten())\n",
        "\n",
        "# Transfer learning\n",
        "model_L4.add(tf.keras.layers.Dense(256, activation='relu'))\n",
        "model_L4.add(tf.keras.layers.Dropout(0.2))\n",
        "model_L4.add(tf.keras.layers.Dense(256, activation='selu'))\n",
        "model_L4.add(tf.keras.layers.Dropout(0.2))\n",
        "model_L4.add(tf.keras.layers.Dense(1, activation='sigmoid'))\n",
        "\n",
        "model_L4.summary()\n",
        "model_L4.compile(optimizer='adam', loss='binary_crossentropy', metrics='accuracy')"
      ],
      "execution_count": 36,
      "outputs": [
        {
          "output_type": "stream",
          "text": [
            "Model: \"sequential\"\n",
            "_________________________________________________________________\n",
            "Layer (type)                 Output Shape              Param #   \n",
            "=================================================================\n",
            "resnet50 (Functional)        (None, 2048)              23587712  \n",
            "_________________________________________________________________\n",
            "flatten (Flatten)            (None, 2048)              0         \n",
            "_________________________________________________________________\n",
            "dense (Dense)                (None, 256)               524544    \n",
            "_________________________________________________________________\n",
            "dropout (Dropout)            (None, 256)               0         \n",
            "_________________________________________________________________\n",
            "dense_1 (Dense)              (None, 256)               65792     \n",
            "_________________________________________________________________\n",
            "dropout_1 (Dropout)          (None, 256)               0         \n",
            "_________________________________________________________________\n",
            "dense_2 (Dense)              (None, 1)                 257       \n",
            "=================================================================\n",
            "Total params: 24,178,305\n",
            "Trainable params: 24,125,185\n",
            "Non-trainable params: 53,120\n",
            "_________________________________________________________________\n"
          ],
          "name": "stdout"
        }
      ]
    },
    {
      "cell_type": "code",
      "metadata": {
        "colab": {
          "base_uri": "https://localhost:8080/"
        },
        "id": "hhWKm9kYjBzV",
        "outputId": "42fd02ca-3486-4990-da65-0d7ae9848754"
      },
      "source": [
        "history_L4 = model_L4.fit(train_generator_L4, \n",
        "                              epochs=8, \n",
        "                              validation_data=test_generator_L4)"
      ],
      "execution_count": 37,
      "outputs": [
        {
          "output_type": "stream",
          "text": [
            "Epoch 1/8\n",
            "167/167 [==============================] - 32s 129ms/step - loss: 0.7793 - accuracy: 0.8013 - val_loss: 0.4925 - val_accuracy: 0.8480\n",
            "Epoch 2/8\n",
            "167/167 [==============================] - 20s 120ms/step - loss: 0.4111 - accuracy: 0.8609 - val_loss: 0.5510 - val_accuracy: 0.8480\n",
            "Epoch 3/8\n",
            "167/167 [==============================] - 20s 120ms/step - loss: 0.3713 - accuracy: 0.8624 - val_loss: 0.7240 - val_accuracy: 0.8480\n",
            "Epoch 4/8\n",
            "167/167 [==============================] - 20s 119ms/step - loss: 0.3504 - accuracy: 0.8679 - val_loss: 0.3150 - val_accuracy: 0.8649\n",
            "Epoch 5/8\n",
            "167/167 [==============================] - 20s 119ms/step - loss: 0.3178 - accuracy: 0.8883 - val_loss: 0.5314 - val_accuracy: 0.6959\n",
            "Epoch 6/8\n",
            "167/167 [==============================] - 20s 119ms/step - loss: 0.3125 - accuracy: 0.8872 - val_loss: 0.4045 - val_accuracy: 0.8547\n",
            "Epoch 7/8\n",
            "167/167 [==============================] - 20s 119ms/step - loss: 0.3174 - accuracy: 0.8878 - val_loss: 0.4744 - val_accuracy: 0.8750\n",
            "Epoch 8/8\n",
            "167/167 [==============================] - 20s 119ms/step - loss: 0.3321 - accuracy: 0.8817 - val_loss: 0.7074 - val_accuracy: 0.8480\n"
          ],
          "name": "stdout"
        }
      ]
    },
    {
      "cell_type": "markdown",
      "metadata": {
        "id": "1UyhXfOPFakK"
      },
      "source": [
        "## *Level 5*"
      ]
    },
    {
      "cell_type": "code",
      "metadata": {
        "id": "piVfEP0MFcay"
      },
      "source": [
        "slide_images_L5, tissue_mask_images_L5, tumor_mask_images_L5 = process_images(slide_paths, tumor_mask_paths, level=5)"
      ],
      "execution_count": 41,
      "outputs": []
    },
    {
      "cell_type": "code",
      "metadata": {
        "id": "xUKXOVdEjLMk"
      },
      "source": [
        "patches_slide_all_L5, patches_tissue_all_L5, patches_tumor_all_L5, patches_tumor_binary_all_L5 = fetch_patches(slide_images_L5, \n",
        "                                                                                                   tissue_mask_images_L5, \n",
        "                                                                                                   tumor_mask_images_L5,\n",
        "                                                                                                   multiplier=8)"
      ],
      "execution_count": 42,
      "outputs": []
    },
    {
      "cell_type": "code",
      "metadata": {
        "id": "GNfrWmrKSiAd"
      },
      "source": [
        "import gc\n",
        "gc.collect()\n",
        "\n",
        "# Save memory!\n",
        "del slide_images_L5\n",
        "del tissue_mask_images_L5\n",
        "del tumor_mask_images_L5"
      ],
      "execution_count": 43,
      "outputs": []
    },
    {
      "cell_type": "code",
      "metadata": {
        "id": "nGgy-8-mSjzB"
      },
      "source": [
        "saveLocally(patches_slide_all_L5, patches_tumor_binary_all_L5, level=5, train_proportion=0.9)"
      ],
      "execution_count": 44,
      "outputs": []
    },
    {
      "cell_type": "code",
      "metadata": {
        "colab": {
          "base_uri": "https://localhost:8080/"
        },
        "id": "SQ47znBuSt4q",
        "outputId": "50955a60-71fe-4763-c374-b859d96b27e3"
      },
      "source": [
        "print('# training normal images:', len(os.listdir('/content/drive/MyDrive/Medical_Imaging_Dataset_L5/train/normal')))\n",
        "print('# training tumor images:', len(os.listdir('/content/drive/MyDrive/Medical_Imaging_Dataset_L5/train/tumor')))\n",
        "print('# testing normal images:', len(os.listdir('/content/drive/MyDrive/Medical_Imaging_Dataset_L5/test/normal')))\n",
        "print('# testing tumor images:', len(os.listdir('/content/drive/MyDrive/Medical_Imaging_Dataset_L5/test/tumor')))"
      ],
      "execution_count": 45,
      "outputs": [
        {
          "output_type": "stream",
          "text": [
            "# training normal images: 1292\n",
            "# training tumor images: 438\n",
            "# testing normal images: 144\n",
            "# testing tumor images: 48\n"
          ],
          "name": "stdout"
        }
      ]
    },
    {
      "cell_type": "code",
      "metadata": {
        "colab": {
          "base_uri": "https://localhost:8080/"
        },
        "id": "Z3WPKL4PSwEd",
        "outputId": "d90ebfb4-41b2-47bf-addb-ded62dc5aa10"
      },
      "source": [
        "import keras\n",
        "from keras.preprocessing.image import ImageDataGenerator\n",
        "\n",
        "# All images will be rescaled by 1./255\n",
        "train_datagen = ImageDataGenerator(rescale=1./255)\n",
        "test_datagen = ImageDataGenerator(rescale=1./255)\n",
        "\n",
        "train_generator_L5 = train_datagen.flow_from_directory(\n",
        "        '/content/drive/MyDrive/Medical_Imaging_Dataset_L5/train',\n",
        "        target_size=(299, 299),\n",
        "        batch_size=16,\n",
        "        class_mode='binary')\n",
        "\n",
        "test_generator_L5 = test_datagen.flow_from_directory(\n",
        "        '/content/drive/MyDrive/Medical_Imaging_Dataset_L5/test',\n",
        "        target_size=(299, 299),\n",
        "        batch_size=16,\n",
        "        class_mode='binary')"
      ],
      "execution_count": 46,
      "outputs": [
        {
          "output_type": "stream",
          "text": [
            "Found 1730 images belonging to 2 classes.\n",
            "Found 192 images belonging to 2 classes.\n"
          ],
          "name": "stdout"
        }
      ]
    },
    {
      "cell_type": "code",
      "metadata": {
        "colab": {
          "base_uri": "https://localhost:8080/"
        },
        "id": "9ajUeUO8S3IM",
        "outputId": "5e9d50a2-777a-4aec-e6e2-9235878d5b85"
      },
      "source": [
        "base_model = tf.keras.applications.ResNet50(\n",
        "    include_top=False,\n",
        "    weights=None,\n",
        "    input_shape=(299,299,3),\n",
        "    pooling='avg',\n",
        "    classes=1000\n",
        ")\n",
        "\n",
        "model_L5 = tf.keras.Sequential()\n",
        "model_L5.add(base_model) # Original model\n",
        "model_L5.add(tf.keras.layers.Flatten())\n",
        "\n",
        "# Transfer learning\n",
        "model_L5.add(tf.keras.layers.Dense(256, activation='relu'))\n",
        "model_L5.add(tf.keras.layers.Dropout(0.2))\n",
        "model_L5.add(tf.keras.layers.Dense(256, activation='selu'))\n",
        "model_L5.add(tf.keras.layers.Dropout(0.2))\n",
        "model_L5.add(tf.keras.layers.Dense(1, activation='sigmoid'))\n",
        "\n",
        "model_L5.summary()\n",
        "model_L5.compile(optimizer='adam', loss='binary_crossentropy', metrics='accuracy')"
      ],
      "execution_count": 47,
      "outputs": [
        {
          "output_type": "stream",
          "text": [
            "Model: \"sequential_1\"\n",
            "_________________________________________________________________\n",
            "Layer (type)                 Output Shape              Param #   \n",
            "=================================================================\n",
            "resnet50 (Functional)        (None, 2048)              23587712  \n",
            "_________________________________________________________________\n",
            "flatten_1 (Flatten)          (None, 2048)              0         \n",
            "_________________________________________________________________\n",
            "dense_3 (Dense)              (None, 256)               524544    \n",
            "_________________________________________________________________\n",
            "dropout_2 (Dropout)          (None, 256)               0         \n",
            "_________________________________________________________________\n",
            "dense_4 (Dense)              (None, 256)               65792     \n",
            "_________________________________________________________________\n",
            "dropout_3 (Dropout)          (None, 256)               0         \n",
            "_________________________________________________________________\n",
            "dense_5 (Dense)              (None, 1)                 257       \n",
            "=================================================================\n",
            "Total params: 24,178,305\n",
            "Trainable params: 24,125,185\n",
            "Non-trainable params: 53,120\n",
            "_________________________________________________________________\n"
          ],
          "name": "stdout"
        }
      ]
    },
    {
      "cell_type": "code",
      "metadata": {
        "colab": {
          "base_uri": "https://localhost:8080/"
        },
        "id": "KBA68a2FTEmJ",
        "outputId": "d6fbe360-a988-4495-eb13-7135d2e8557c"
      },
      "source": [
        "history_L5 = model_L5.fit(train_generator_L5, \n",
        "                              epochs=8, \n",
        "                              validation_data=test_generator_L5)"
      ],
      "execution_count": 48,
      "outputs": [
        {
          "output_type": "stream",
          "text": [
            "Epoch 1/8\n",
            "109/109 [==============================] - 20s 131ms/step - loss: 1.0454 - accuracy: 0.6983 - val_loss: 0.6112 - val_accuracy: 0.7500\n",
            "Epoch 2/8\n",
            "109/109 [==============================] - 13s 119ms/step - loss: 0.5441 - accuracy: 0.7584 - val_loss: 0.5453 - val_accuracy: 0.7552\n",
            "Epoch 3/8\n",
            "109/109 [==============================] - 13s 119ms/step - loss: 0.4686 - accuracy: 0.7888 - val_loss: 0.5746 - val_accuracy: 0.7604\n",
            "Epoch 4/8\n",
            "109/109 [==============================] - 13s 119ms/step - loss: 0.4852 - accuracy: 0.7852 - val_loss: 0.5966 - val_accuracy: 0.7500\n",
            "Epoch 5/8\n",
            "109/109 [==============================] - 13s 119ms/step - loss: 0.4845 - accuracy: 0.7716 - val_loss: 0.7900 - val_accuracy: 0.7865\n",
            "Epoch 6/8\n",
            "109/109 [==============================] - 13s 119ms/step - loss: 0.4623 - accuracy: 0.7860 - val_loss: 0.6516 - val_accuracy: 0.7760\n",
            "Epoch 7/8\n",
            "109/109 [==============================] - 13s 119ms/step - loss: 0.4669 - accuracy: 0.7659 - val_loss: 1.3246 - val_accuracy: 0.7500\n",
            "Epoch 8/8\n",
            "109/109 [==============================] - 13s 119ms/step - loss: 0.4452 - accuracy: 0.7631 - val_loss: 0.6962 - val_accuracy: 0.7500\n"
          ],
          "name": "stdout"
        }
      ]
    },
    {
      "cell_type": "markdown",
      "metadata": {
        "id": "z7UaqcTgFgIu"
      },
      "source": [
        "## *Level 6*"
      ]
    },
    {
      "cell_type": "code",
      "metadata": {
        "id": "IqPLSj1pFh8D"
      },
      "source": [
        "slide_images_L6, tissue_mask_images_L6, tumor_mask_images_L6 = process_images(slide_paths, tumor_mask_paths, level=6)"
      ],
      "execution_count": 56,
      "outputs": []
    },
    {
      "cell_type": "code",
      "metadata": {
        "id": "YVqk4gvbVsTp"
      },
      "source": [
        "patches_slide_all_L6, patches_tissue_all_L6, patches_tumor_all_L6, patches_tumor_binary_all_L6 = fetch_patches(slide_images_L6, \n",
        "                                                                                                   tissue_mask_images_L6, \n",
        "                                                                                                   tumor_mask_images_L6,\n",
        "                                                                                                   multiplier=30)"
      ],
      "execution_count": 57,
      "outputs": []
    },
    {
      "cell_type": "code",
      "metadata": {
        "id": "vRxiDLF0V1Dv"
      },
      "source": [
        "import gc\n",
        "gc.collect()\n",
        "\n",
        "# Save memory!\n",
        "del slide_images_L6\n",
        "del tissue_mask_images_L6\n",
        "del tumor_mask_images_L6"
      ],
      "execution_count": 58,
      "outputs": []
    },
    {
      "cell_type": "code",
      "metadata": {
        "id": "_D2vbOqIV4Ls"
      },
      "source": [
        "saveLocally(patches_slide_all_L6, patches_tumor_binary_all_L6, level=6, train_proportion=0.9)"
      ],
      "execution_count": 59,
      "outputs": []
    },
    {
      "cell_type": "code",
      "metadata": {
        "colab": {
          "base_uri": "https://localhost:8080/"
        },
        "id": "WEh63cvnWA0c",
        "outputId": "605c89cb-dcf6-4c78-a9d7-96b8ca62b3a6"
      },
      "source": [
        "print('# training normal images:', len(os.listdir('/content/drive/MyDrive/Medical_Imaging_Dataset_L6/train/normal')))\n",
        "print('# training tumor images:', len(os.listdir('/content/drive/MyDrive/Medical_Imaging_Dataset_L6/train/tumor')))\n",
        "print('# testing normal images:', len(os.listdir('/content/drive/MyDrive/Medical_Imaging_Dataset_L6/test/normal')))\n",
        "print('# testing tumor images:', len(os.listdir('/content/drive/MyDrive/Medical_Imaging_Dataset_L6/test/tumor')))"
      ],
      "execution_count": 60,
      "outputs": [
        {
          "output_type": "stream",
          "text": [
            "# training normal images: 1211\n",
            "# training tumor images: 1003\n",
            "# testing normal images: 148\n",
            "# testing tumor images: 98\n"
          ],
          "name": "stdout"
        }
      ]
    },
    {
      "cell_type": "code",
      "metadata": {
        "colab": {
          "base_uri": "https://localhost:8080/"
        },
        "id": "T0JxSCXDWFv9",
        "outputId": "a87f7acb-16e7-4ac2-b04b-d40d93297c1e"
      },
      "source": [
        "import keras\n",
        "from keras.preprocessing.image import ImageDataGenerator\n",
        "\n",
        "# All images will be rescaled by 1./255\n",
        "train_datagen = ImageDataGenerator(rescale=1./255)\n",
        "test_datagen = ImageDataGenerator(rescale=1./255)\n",
        "\n",
        "train_generator_L6 = train_datagen.flow_from_directory(\n",
        "        '/content/drive/MyDrive/Medical_Imaging_Dataset_L6/train',\n",
        "        target_size=(299, 299),\n",
        "        batch_size=16,\n",
        "        class_mode='binary')\n",
        "\n",
        "test_generator_L6 = test_datagen.flow_from_directory(\n",
        "        '/content/drive/MyDrive/Medical_Imaging_Dataset_L6/test',\n",
        "        target_size=(299, 299),\n",
        "        batch_size=16,\n",
        "        class_mode='binary')"
      ],
      "execution_count": 66,
      "outputs": [
        {
          "output_type": "stream",
          "text": [
            "Found 2214 images belonging to 2 classes.\n",
            "Found 246 images belonging to 2 classes.\n"
          ],
          "name": "stdout"
        }
      ]
    },
    {
      "cell_type": "code",
      "metadata": {
        "colab": {
          "base_uri": "https://localhost:8080/"
        },
        "id": "q67R9JkSWLIB",
        "outputId": "959f3fe6-e43c-4db0-f741-92a32ed883c4"
      },
      "source": [
        "base_model = tf.keras.applications.ResNet50(\n",
        "    include_top=False,\n",
        "    weights=None,\n",
        "    input_shape=(299,299,3),\n",
        "    pooling='avg',\n",
        "    classes=1000\n",
        ")\n",
        "\n",
        "model_L6 = tf.keras.Sequential()\n",
        "model_L6.add(base_model) # Original model\n",
        "model_L6.add(tf.keras.layers.Flatten())\n",
        "\n",
        "# Transfer learning\n",
        "model_L6.add(tf.keras.layers.Dense(64, activation='selu'))\n",
        "#model_L6.add(tf.keras.layers.Dropout(0.2))\n",
        "model_L6.add(tf.keras.layers.Dense(64, activation='selu'))\n",
        "#model_L6.add(tf.keras.layers.Dropout(0.2))\n",
        "model_L6.add(tf.keras.layers.Dense(1, activation='sigmoid'))\n",
        "\n",
        "model_L6.summary()\n",
        "model_L6.compile(optimizer='adam', loss='binary_crossentropy', metrics='accuracy')"
      ],
      "execution_count": 69,
      "outputs": [
        {
          "output_type": "stream",
          "text": [
            "Model: \"sequential_5\"\n",
            "_________________________________________________________________\n",
            "Layer (type)                 Output Shape              Param #   \n",
            "=================================================================\n",
            "resnet50 (Functional)        (None, 2048)              23587712  \n",
            "_________________________________________________________________\n",
            "flatten_5 (Flatten)          (None, 2048)              0         \n",
            "_________________________________________________________________\n",
            "dense_15 (Dense)             (None, 64)                131136    \n",
            "_________________________________________________________________\n",
            "dense_16 (Dense)             (None, 64)                4160      \n",
            "_________________________________________________________________\n",
            "dense_17 (Dense)             (None, 1)                 65        \n",
            "=================================================================\n",
            "Total params: 23,723,073\n",
            "Trainable params: 23,669,953\n",
            "Non-trainable params: 53,120\n",
            "_________________________________________________________________\n"
          ],
          "name": "stdout"
        }
      ]
    },
    {
      "cell_type": "code",
      "metadata": {
        "colab": {
          "base_uri": "https://localhost:8080/"
        },
        "id": "jmkg9ziZWSkd",
        "outputId": "a1da7643-5834-43a2-8d55-425a4bba2574"
      },
      "source": [
        "history_L6 = model_L6.fit(train_generator_L6, \n",
        "                              epochs=8, \n",
        "                              validation_data=test_generator_L6)"
      ],
      "execution_count": 70,
      "outputs": [
        {
          "output_type": "stream",
          "text": [
            "Epoch 1/8\n",
            "139/139 [==============================] - 23s 126ms/step - loss: 1.0604 - accuracy: 0.6486 - val_loss: 0.9318 - val_accuracy: 0.6016\n",
            "Epoch 2/8\n",
            "139/139 [==============================] - 17s 118ms/step - loss: 0.4986 - accuracy: 0.7778 - val_loss: 5.7133 - val_accuracy: 0.4512\n",
            "Epoch 3/8\n",
            "139/139 [==============================] - 17s 120ms/step - loss: 0.4770 - accuracy: 0.7906 - val_loss: 12.0658 - val_accuracy: 0.3984\n",
            "Epoch 4/8\n",
            "139/139 [==============================] - 17s 118ms/step - loss: 0.4440 - accuracy: 0.7985 - val_loss: 0.5651 - val_accuracy: 0.7927\n",
            "Epoch 5/8\n",
            "139/139 [==============================] - 16s 118ms/step - loss: 0.4133 - accuracy: 0.8113 - val_loss: 1.0343 - val_accuracy: 0.4106\n",
            "Epoch 6/8\n",
            "139/139 [==============================] - 17s 118ms/step - loss: 0.3751 - accuracy: 0.8387 - val_loss: 1.7557 - val_accuracy: 0.4024\n",
            "Epoch 7/8\n",
            "139/139 [==============================] - 17s 118ms/step - loss: 0.3775 - accuracy: 0.8357 - val_loss: 0.6185 - val_accuracy: 0.7480\n",
            "Epoch 8/8\n",
            "139/139 [==============================] - 17s 118ms/step - loss: 0.3767 - accuracy: 0.8367 - val_loss: 0.5335 - val_accuracy: 0.7886\n"
          ],
          "name": "stdout"
        }
      ]
    },
    {
      "cell_type": "code",
      "metadata": {
        "colab": {
          "base_uri": "https://localhost:8080/"
        },
        "id": "yJB8OPAUXgj5",
        "outputId": "f8be443c-ebee-4dde-8cda-8e5db684aee3"
      },
      "source": [
        "# Save the models\n",
        "model_L4.save(\"model_L4\")\n",
        "model_L5.save(\"model_L5\")\n",
        "model_L6.save(\"model_L6\")"
      ],
      "execution_count": 72,
      "outputs": [
        {
          "output_type": "stream",
          "text": [
            "INFO:tensorflow:Assets written to: model_L4/assets\n",
            "INFO:tensorflow:Assets written to: model_L5/assets\n",
            "INFO:tensorflow:Assets written to: model_L6/assets\n"
          ],
          "name": "stdout"
        }
      ]
    },
    {
      "cell_type": "code",
      "metadata": {
        "colab": {
          "base_uri": "https://localhost:8080/"
        },
        "id": "HpXLEUWJcRHN",
        "outputId": "64b01ebb-380c-4c32-dde0-55052d15bcfe"
      },
      "source": [
        "!zip -r /content/model_L6.zip /content/model_L6"
      ],
      "execution_count": 75,
      "outputs": [
        {
          "output_type": "stream",
          "text": [
            "  adding: content/model_L6/ (stored 0%)\n",
            "  adding: content/model_L6/assets/ (stored 0%)\n",
            "  adding: content/model_L6/variables/ (stored 0%)\n",
            "  adding: content/model_L6/variables/variables.data-00000-of-00001 (deflated 8%)\n",
            "  adding: content/model_L6/variables/variables.index (deflated 80%)\n",
            "  adding: content/model_L6/saved_model.pb (deflated 93%)\n"
          ],
          "name": "stdout"
        }
      ]
    },
    {
      "cell_type": "code",
      "metadata": {
        "id": "jQiPNDvFaKOo"
      },
      "source": [
        "from google.colab import files\n",
        "files.download(\"/content/file.zip\")"
      ],
      "execution_count": null,
      "outputs": []
    },
    {
      "cell_type": "code",
      "metadata": {
        "id": "2h1VE-r2ma4o"
      },
      "source": [
        ""
      ],
      "execution_count": null,
      "outputs": []
    }
  ]
}